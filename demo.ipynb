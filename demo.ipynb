{
 "cells": [
  {
   "cell_type": "markdown",
   "metadata": {},
   "source": [
    "WARNING:\n",
    "\n",
    "\"fitting_parameters.h5\" need to be in the directory you are working on\n",
    "or there will be an error for importing mr_forecast in the next cell.\n",
    "\n",
    "If you don't want the file in this directory,\n",
    "change the mr_forecast.py line 16\n",
    "\n",
    "hyper_file = 'fitting_parameters.h5' \n",
    "\n",
    "->\n",
    "\n",
    "hyper_file = [directory of fitting parameter file]+'fitting_parameters.h5'"
   ]
  },
  {
   "cell_type": "code",
   "execution_count": 31,
   "metadata": {},
   "outputs": [],
   "source": [
    "import numpy as np\n",
    "import mr_forecast as mr\n",
    "import matplotlib.pyplot as plt\n",
    "import h5py\n",
    "from astropy.io import ascii\n",
    "%matplotlib inline"
   ]
  },
  {
   "cell_type": "markdown",
   "metadata": {},
   "source": [
    "================================\n",
    "\n",
    "predict the mean and std of radius given those of the mass"
   ]
  },
  {
   "cell_type": "code",
   "execution_count": 5,
   "metadata": {},
   "outputs": [
    {
     "name": "stdout",
     "output_type": "stream",
     "text": [
      "Terran 95.0%, Neptunian 5.0%, Jovian 0.0%, Star 0.0%\n"
     ]
    }
   ],
   "source": [
    "Rmedian, Rplus, Rminus = mr.Mstat2R(mean=1.0, std=0.1, unit='Earth', sample_size=100, classify='Yes')"
   ]
  },
  {
   "cell_type": "code",
   "execution_count": 6,
   "metadata": {},
   "outputs": [
    {
     "name": "stdout",
     "output_type": "stream",
     "text": [
      "R = 1.00 (+ 0.13 - 0.10) REarth\n"
     ]
    }
   ],
   "source": [
    "print('R = {0:.2f} (+ {1:.2f} - {2:.2f}) REarth'.format(Rmedian, Rplus, Rminus))"
   ]
  },
  {
   "cell_type": "markdown",
   "metadata": {},
   "source": [
    "================================\n",
    "\n",
    "predict a vector of radius given a vector of mass"
   ]
  },
  {
   "cell_type": "code",
   "execution_count": 7,
   "metadata": {},
   "outputs": [
    {
     "name": "stdout",
     "output_type": "stream",
     "text": [
      "Terran 100.0%, Neptunian 0.0%, Jovian 0.0%, Star 0.0%\n"
     ]
    }
   ],
   "source": [
    "M1 = np.loadtxt('demo_mass.dat')\n",
    "R1 = mr.Mpost2R(M1, unit='Earth', classify='Yes')"
   ]
  },
  {
   "cell_type": "code",
   "execution_count": 8,
   "metadata": {},
   "outputs": [
    {
     "data": {
      "image/png": "[encoded data removed]",
      "text/plain": [
       "<Figure size 432x288 with 1 Axes>"
      ]
     },
     "metadata": {
      "needs_background": "light"
     },
     "output_type": "display_data"
    }
   ],
   "source": [
    "plt.plot(np.log10(M1), np.log10(R1), 'bx')\n",
    "plt.xlabel(r'$log_{10}\\ M/M_{\\oplus}$')\n",
    "plt.ylabel(r'$log_{10}\\ R/R_{\\oplus}$')\n",
    "plt.show()"
   ]
  },
  {
   "cell_type": "markdown",
   "metadata": {},
   "source": [
    "================================\n",
    "\n",
    "predict the mean and std of mass given those of the radius"
   ]
  },
  {
   "cell_type": "code",
   "execution_count": 9,
   "metadata": {},
   "outputs": [
    {
     "name": "stdout",
     "output_type": "stream",
     "text": [
      "Terran 71.0%, Neptunian 29.0%, Jovian 0.0%, Star 0.0%\n"
     ]
    }
   ],
   "source": [
    "Mmedian, Mplus, Mminus = mr.Rstat2M(mean=0.1, std=0.01, unit='Jupiter', sample_size=100, grid_size=1e3, classify='Yes')"
   ]
  },
  {
   "cell_type": "code",
   "execution_count": 10,
   "metadata": {},
   "outputs": [
    {
     "name": "stdout",
     "output_type": "stream",
     "text": [
      "M = 0.004 (+ 0.005 - 0.001) MEarth\n"
     ]
    }
   ],
   "source": [
    "print('M = {0:.3f} (+ {1:.3f} - {2:.3f}) MEarth'.format(Mmedian, Mplus, Mminus))"
   ]
  },
  {
   "cell_type": "markdown",
   "metadata": {},
   "source": [
    "================================\n",
    "\n",
    "predict a vector of mass given a vector of radius"
   ]
  },
  {
   "cell_type": "code",
   "execution_count": 11,
   "metadata": {},
   "outputs": [
    {
     "name": "stdout",
     "output_type": "stream",
     "text": [
      "Terran 67.0%, Neptunian 33.0%, Jovian 0.0%, Star 0.0%\n"
     ]
    }
   ],
   "source": [
    "R2 = np.loadtxt('demo_radius.dat')\n",
    "M2 = mr.Rpost2M(R2, unit='Earth', grid_size=1e3, classify='Yes')"
   ]
  },
  {
   "cell_type": "code",
   "execution_count": 12,
   "metadata": {},
   "outputs": [
    {
     "data": {
      "image/png": "[encoded data removed]",
      "text/plain": [
       "<Figure size 432x288 with 1 Axes>"
      ]
     },
     "metadata": {
      "needs_background": "light"
     },
     "output_type": "display_data"
    }
   ],
   "source": [
    "plt.hist(np.log10(M2))\n",
    "plt.xlabel(r'$log_{10}\\ M/M_{\\odot}$')\n",
    "plt.show()"
   ]
  },
  {
   "cell_type": "markdown",
   "metadata": {},
   "source": [
    "# model parameters"
   ]
  },
  {
   "cell_type": "code",
   "execution_count": 28,
   "metadata": {},
   "outputs": [],
   "source": [
    "## read parameter file\n",
    "hyper_file = 'fitting_parameters.h5'\n",
    "h5 = h5py.File(hyper_file, 'r')"
   ]
  },
  {
   "cell_type": "code",
   "execution_count": 29,
   "metadata": {},
   "outputs": [
    {
     "name": "stdout",
     "output_type": "stream",
     "text": [
      "<class 'h5py._hl.files.File'>\n",
      "<HDF5 file \"fitting_parameters.h5\" (mode r)>\n",
      "['hyper_posterior']\n",
      "<class 'h5py._hl.dataset.Dataset'>\n",
      "<HDF5 dataset \"hyper_posterior\": shape (1020431, 12), type \"<f8\">\n",
      "[]\n",
      "(1020431, 12)\n",
      "<class 'numpy.ndarray'>\n",
      "[[-0.0125921   0.27410939  0.60248143 ...  0.33621657  2.1189979\n",
      "   4.43530749]\n",
      " [-0.01178978  0.27464144  0.59903108 ...  0.34018224  2.12387865\n",
      "   4.43706841]\n",
      " [-0.01170508  0.273465    0.59992477 ...  0.34247496  2.12954311\n",
      "   4.44269832]\n",
      " ...\n",
      " [ 0.01101382  0.28605739  0.65167291 ...  0.48875647  2.02281465\n",
      "   4.46975324]\n",
      " [ 0.01030998  0.28116919  0.64048695 ...  0.46772075  2.02423298\n",
      "   4.46942985]\n",
      " [ 0.01188984  0.27989382  0.63562988 ...  0.46331946  2.01739445\n",
      "   4.46989571]]\n"
     ]
    }
   ],
   "source": [
    "print(type(h5))\n",
    "print(h5)\n",
    "k = list(h5.keys())\n",
    "print(k)\n",
    "print(type(h5['hyper_posterior']))\n",
    "hp = h5['hyper_posterior']\n",
    "print(hp)\n",
    "print(list(hp.attrs))\n",
    "all_hyper = hp[:]\n",
    "print(np.shape(all_hyper))\n",
    "print(type(all_hyper))\n",
    "print(all_hyper)"
   ]
  },
  {
   "cell_type": "code",
   "execution_count": 30,
   "metadata": {},
   "outputs": [
    {
     "data": {
      "image/png": "[encoded data removed]",
      "text/plain": [
       "<Figure size 1296x432 with 12 Axes>"
      ]
     },
     "metadata": {
      "needs_background": "light"
     },
     "output_type": "display_data"
    }
   ],
   "source": [
    "# The rows of all_hyper are the posterior samples plotted in Jingjing's figure 2, with summary statistics in table 1.\n",
    "\n",
    "fig, axes = plt.subplots(2,6,figsize=(18,6))\n",
    "labels=[r'$C$',                                                    # 10**C has units of R_earth\n",
    "        r'$S_1$',r'$S_2$',r'$S_3$',r'$S_4$',                       # unitless; already OK\n",
    "        r'$\\sigma_1$',r'$\\sigma_2$',r'$\\sigma_3$',r'$\\sigma_4$',   # fractional; already OK\n",
    "        r'$T_1$',r'$T_2$',r'$T_3$']                                # 10**T has units of M_earth\n",
    "for i in range(12):\n",
    "    axes[i//6,i%6].hist(all_hyper[:,i])\n",
    "    axes[i//6,i%6].set_xlabel(labels[i])\n",
    "plt.subplots_adjust(hspace=0.3)\n",
    "plt.show()"
   ]
  },
  {
   "cell_type": "code",
   "execution_count": null,
   "metadata": {},
   "outputs": [],
   "source": []
  },
  {
   "cell_type": "markdown",
   "metadata": {},
   "source": [
    "# Data"
   ]
  },
  {
   "cell_type": "code",
   "execution_count": 47,
   "metadata": {},
   "outputs": [
    {
     "name": "stdout",
     "output_type": "stream",
     "text": [
      "         Name          Mass e_Mass ...   _RAdeg    _DEdeg \n",
      "--------------------- ----- ------ ... --------- ---------\n",
      "NGC6791 KR V20        0.827  0.004 ... 290.23888  37.76017\n",
      "HD 124784             0.854  0.003 ... 214.24131  -49.9451\n",
      "Parenago 1478         0.727   0.01 ... 083.61604  -5.69383\n",
      "HD 7700               0.764  0.004 ... 019.22966    6.8117\n",
      "BD+34 4217            0.814  0.013 ... 314.55605   35.1749\n",
      "TYC 3629-740-1        0.869  0.004 ... 341.23793  49.65764\n",
      "GU Boo A               0.61  0.006 ... 230.47846  33.93578\n",
      "GU Boo B                0.6  0.006 ... 230.47846  33.93578\n",
      "YY Gem A              0.599  0.005 ... 113.65660  31.86974\n",
      "YY Gem B              0.599  0.005 ... 113.65660  31.86974\n",
      "                  ...   ...    ... ...       ...       ...\n",
      "WASP-112 b             0.88   0.12 ... 339.48933 -35.15399\n",
      "WASP-120 b             5.01   0.26 ... 062.61606 -45.89821\n",
      "WASP-121 b            1.183  0.064 ... 107.60024 -39.09737\n",
      "WASP-122 b            1.372  0.072 ... 108.30145 -42.40978\n",
      "WASP-123 b             0.92   0.05 ... 289.47936 -32.85996\n",
      "WASP-135 b              1.9   0.08 ... 267.28500  29.87914\n",
      "WTS-2 b                1.12   0.16 ... 293.73280  36.81549\n",
      "XO-1 b                0.924  0.077 ... 240.54933  28.16956\n",
      "XO-2 b                0.597  0.021 ... 117.02695  50.22582\n",
      "XO-3 b                11.83   0.38 ... 065.46960  57.81719\n",
      "XO-5 b                 1.19  0.031 ... 116.71650  39.09457\n",
      "Length = 317 rows\n"
     ]
    }
   ],
   "source": [
    "dat = ascii.read(\"./forecasterData.tsv\")\n",
    "print(dat)\n",
    "for col in ['Mass','e_Mass','Rad','e_Rad']:\n",
    "    dat[col] = dat[col].astype(float)\n",
    "    "
   ]
  },
  {
   "cell_type": "code",
   "execution_count": 65,
   "metadata": {},
   "outputs": [
    {
     "data": {
      "image/png": "[encoded data removed]",
      "text/plain": [
       "<Figure size 720x504 with 1 Axes>"
      ]
     },
     "metadata": {
      "needs_background": "light"
     },
     "output_type": "display_data"
    }
   ],
   "source": [
    "# get all masses in earth masses, radii in earth radii\n",
    "m = np.zeros(316)\n",
    "m_unc = np.zeros(316)\n",
    "r = np.zeros(316)\n",
    "r_unc = np.zeros(316)\n",
    "\n",
    "for i in range(316):\n",
    "    if dat['x_Mass'][i]=='Msun':\n",
    "        m[i] = dat['Mass'][i]*333060.4\n",
    "        m_unc[i] = dat['e_Mass'][i]*333060.4\n",
    "    elif dat['x_Mass'][i]=='Mjup':\n",
    "        m[i] = dat['Mass'][i]*317.828\n",
    "        m_unc[i] = dat['e_Mass'][i]*317.828\n",
    "    else:\n",
    "        m[i] = dat['Mass'][i]\n",
    "        m_unc[i] = dat['e_Mass'][i]\n",
    "        \n",
    "    if dat['x_Rad'][i]=='Rsun':\n",
    "        r[i] = dat['Rad'][i]*109.2\n",
    "        r_unc[i] = dat['e_Rad'][i]*109.2\n",
    "    elif dat['x_Rad'][i]=='Rjup':\n",
    "        r[i] = dat['Rad'][i]*11.21\n",
    "        r_unc[i] = dat['e_Rad'][i]*11.21\n",
    "    else:\n",
    "        r[i] = dat['Rad'][i]\n",
    "        r_unc[i] = dat['e_Rad'][i]\n",
    "\n",
    "        \n",
    "fig,ax = plt.subplots(1,1,figsize=(10,7))\n",
    "ax.errorbar(m,r,xerr=m_unc,yerr=r_unc,marker='.',ms=2,color='k',ls='None',capsize=0)\n",
    "ax.axvline(x=2.0,color='k',ls=':',lw=1)\n",
    "ax.axvline(x=0.41*317.828,color='k',ls=':',lw=1)\n",
    "ax.axvline(x=0.08*333060.4,color='k',ls=':',lw=1)\n",
    "ax.loglog()\n",
    "ax.set_xlabel(r'$M/M_\\oplus$',fontsize=16)\n",
    "ax.set_ylabel(r'$R/R_\\oplus$',fontsize=16)\n",
    "ax.tick_params(axis='both',labelsize=14)\n",
    "plt.show()"
   ]
  },
  {
   "cell_type": "code",
   "execution_count": null,
   "metadata": {},
   "outputs": [],
   "source": []
  }
 ],
 "metadata": {
  "kernelspec": {
   "display_name": "Python 2",
   "language": "python",
   "name": "python2"
  },
  "language_info": {
   "codemirror_mode": {
    "name": "ipython",
    "version": 3
   },
   "file_extension": ".py",
   "mimetype": "text/x-python",
   "name": "python",
   "nbconvert_exporter": "python",
   "pygments_lexer": "ipython3",
   "version": "3.7.3"
  }
 },
 "nbformat": 4,
 "nbformat_minor": 1
}
