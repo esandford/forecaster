{
 "cells": [
  {
   "cell_type": "markdown",
   "metadata": {},
   "source": [
    "WARNING:\n",
    "\n",
    "\"fitting_parameters.h5\" need to be in the directory you are working on\n",
    "or there will be an error for importing mr_forecast in the next cell.\n",
    "\n",
    "If you don't want the file in this directory,\n",
    "change the mr_forecast.py line 16\n",
    "\n",
    "hyper_file = 'fitting_parameters.h5' \n",
    "\n",
    "->\n",
    "\n",
    "hyper_file = [directory of fitting parameter file]+'fitting_parameters.h5'"
   ]
  },
  {
   "cell_type": "code",
   "execution_count": 4,
   "metadata": {},
   "outputs": [],
   "source": [
    "import numpy as np\n",
    "import mr_forecast as mr\n",
    "import matplotlib.pyplot as plt\n",
    "%matplotlib inline"
   ]
  },
  {
   "cell_type": "markdown",
   "metadata": {},
   "source": [
    "================================\n",
    "\n",
    "predict the mean and std of radius given those of the mass"
   ]
  },
  {
   "cell_type": "code",
   "execution_count": 5,
   "metadata": {},
   "outputs": [
    {
     "name": "stdout",
     "output_type": "stream",
     "text": [
      "Terran 95.0%, Neptunian 5.0%, Jovian 0.0%, Star 0.0%\n"
     ]
    }
   ],
   "source": [
    "Rmedian, Rplus, Rminus = mr.Mstat2R(mean=1.0, std=0.1, unit='Earth', sample_size=100, classify='Yes')"
   ]
  },
  {
   "cell_type": "code",
   "execution_count": 6,
   "metadata": {},
   "outputs": [
    {
     "name": "stdout",
     "output_type": "stream",
     "text": [
      "R = 1.00 (+ 0.13 - 0.10) REarth\n"
     ]
    }
   ],
   "source": [
    "print('R = {0:.2f} (+ {1:.2f} - {2:.2f}) REarth'.format(Rmedian, Rplus, Rminus))"
   ]
  },
  {
   "cell_type": "markdown",
   "metadata": {},
   "source": [
    "================================\n",
    "\n",
    "predict a vector of radius given a vector of mass"
   ]
  },
  {
   "cell_type": "code",
   "execution_count": 7,
   "metadata": {},
   "outputs": [
    {
     "name": "stdout",
     "output_type": "stream",
     "text": [
      "Terran 100.0%, Neptunian 0.0%, Jovian 0.0%, Star 0.0%\n"
     ]
    }
   ],
   "source": [
    "M1 = np.loadtxt('demo_mass.dat')\n",
    "R1 = mr.Mpost2R(M1, unit='Earth', classify='Yes')"
   ]
  },
  {
   "cell_type": "code",
   "execution_count": 8,
   "metadata": {},
   "outputs": [
    {
     "data": {
      "image/png": "[encoded data removed]",
      "text/plain": [
       "<Figure size 432x288 with 1 Axes>"
      ]
     },
     "metadata": {
      "needs_background": "light"
     },
     "output_type": "display_data"
    }
   ],
   "source": [
    "plt.plot(np.log10(M1), np.log10(R1), 'bx')\n",
    "plt.xlabel(r'$log_{10}\\ M/M_{\\oplus}$')\n",
    "plt.ylabel(r'$log_{10}\\ R/R_{\\oplus}$')\n",
    "plt.show()"
   ]
  },
  {
   "cell_type": "markdown",
   "metadata": {},
   "source": [
    "================================\n",
    "\n",
    "predict the mean and std of mass given those of the radius"
   ]
  },
  {
   "cell_type": "code",
   "execution_count": 9,
   "metadata": {},
   "outputs": [
    {
     "name": "stdout",
     "output_type": "stream",
     "text": [
      "Terran 71.0%, Neptunian 29.0%, Jovian 0.0%, Star 0.0%\n"
     ]
    }
   ],
   "source": [
    "Mmedian, Mplus, Mminus = mr.Rstat2M(mean=0.1, std=0.01, unit='Jupiter', sample_size=100, grid_size=1e3, classify='Yes')"
   ]
  },
  {
   "cell_type": "code",
   "execution_count": 10,
   "metadata": {},
   "outputs": [
    {
     "name": "stdout",
     "output_type": "stream",
     "text": [
      "M = 0.004 (+ 0.005 - 0.001) MEarth\n"
     ]
    }
   ],
   "source": [
    "print('M = {0:.3f} (+ {1:.3f} - {2:.3f}) MEarth'.format(Mmedian, Mplus, Mminus))"
   ]
  },
  {
   "cell_type": "markdown",
   "metadata": {},
   "source": [
    "================================\n",
    "\n",
    "predict a vector of mass given a vector of radius"
   ]
  },
  {
   "cell_type": "code",
   "execution_count": 11,
   "metadata": {},
   "outputs": [
    {
     "name": "stdout",
     "output_type": "stream",
     "text": [
      "Terran 67.0%, Neptunian 33.0%, Jovian 0.0%, Star 0.0%\n"
     ]
    }
   ],
   "source": [
    "R2 = np.loadtxt('demo_radius.dat')\n",
    "M2 = mr.Rpost2M(R2, unit='Earth', grid_size=1e3, classify='Yes')"
   ]
  },
  {
   "cell_type": "code",
   "execution_count": 12,
   "metadata": {},
   "outputs": [
    {
     "data": {
      "image/png": "[encoded data removed]",
      "text/plain": [
       "<Figure size 432x288 with 1 Axes>"
      ]
     },
     "metadata": {
      "needs_background": "light"
     },
     "output_type": "display_data"
    }
   ],
   "source": [
    "plt.hist(np.log10(M2))\n",
    "plt.xlabel(r'$log_{10}\\ M/M_{\\odot}$')\n",
    "plt.show()"
   ]
  },
  {
   "cell_type": "code",
   "execution_count": null,
   "metadata": {
    "collapsed": true
   },
   "outputs": [],
   "source": []
  }
 ],
 "metadata": {
  "kernelspec": {
   "display_name": "Python 2",
   "language": "python",
   "name": "python2"
  },
  "language_info": {
   "codemirror_mode": {
    "name": "ipython",
    "version": 3
   },
   "file_extension": ".py",
   "mimetype": "text/x-python",
   "name": "python",
   "nbconvert_exporter": "python",
   "pygments_lexer": "ipython3",
   "version": "3.7.3"
  }
 },
 "nbformat": 4,
 "nbformat_minor": 1
}
